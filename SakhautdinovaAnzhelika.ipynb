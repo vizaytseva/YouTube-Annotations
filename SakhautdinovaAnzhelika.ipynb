{
  "nbformat": 4,
  "nbformat_minor": 0,
  "metadata": {
    "colab": {
      "provenance": [],
      "authorship_tag": "ABX9TyODcE1ZD4cvcmCcLyWa6QjZ",
      "include_colab_link": true
    },
    "kernelspec": {
      "name": "python3",
      "display_name": "Python 3"
    },
    "language_info": {
      "name": "python"
    }
  },
  "cells": [
    {
      "cell_type": "markdown",
      "metadata": {
        "id": "view-in-github",
        "colab_type": "text"
      },
      "source": [
        "<a href=\"https://colab.research.google.com/github/vizaytseva/YouTube-Annotations/blob/main/SakhautdinovaAnzhelika.ipynb\" target=\"_parent\"><img src=\"https://colab.research.google.com/assets/colab-badge.svg\" alt=\"Open In Colab\"/></a>"
      ]
    },
    {
      "cell_type": "code",
      "source": [
        "import pandas as pd"
      ],
      "metadata": {
        "id": "Y_aBmpY5XMYk"
      },
      "execution_count": null,
      "outputs": []
    },
    {
      "cell_type": "code",
      "execution_count": null,
      "metadata": {
        "id": "5j5y2sOoW3fK"
      },
      "outputs": [],
      "source": [
        "!pip install youtube-transcript-api"
      ]
    },
    {
      "cell_type": "markdown",
      "source": [
        "**ВИДЕО 1**"
      ],
      "metadata": {
        "id": "duK4mDFL9dsj"
      }
    },
    {
      "cell_type": "code",
      "source": [
        "link_1 = ['https://youtu.be/kd_TNFN43fo']  # id = 'kd_TNFN43fo'\n"
      ],
      "metadata": {
        "id": "G3iyNZurXOix"
      },
      "execution_count": null,
      "outputs": []
    },
    {
      "cell_type": "code",
      "source": [
        "def get_id (link_id):\n",
        "    ids = []\n",
        "    for link in link_1:\n",
        "        id = link[-11:]\n",
        "        ids.append(id)\n",
        "    return ids"
      ],
      "metadata": {
        "id": "aHgyftjkbSy0"
      },
      "execution_count": null,
      "outputs": []
    },
    {
      "cell_type": "code",
      "source": [
        "url_ids = get_id(link_1)\n",
        "url_ids"
      ],
      "metadata": {
        "colab": {
          "base_uri": "https://localhost:8080/"
        },
        "id": "H-ftvJJiir9Z",
        "outputId": "ebf92842-1779-4d3f-ee61-bfc596ff130e"
      },
      "execution_count": null,
      "outputs": [
        {
          "output_type": "execute_result",
          "data": {
            "text/plain": [
              "['kd_TNFN43fo']"
            ]
          },
          "metadata": {},
          "execution_count": 5
        }
      ]
    },
    {
      "cell_type": "code",
      "source": [
        "from youtube_transcript_api import YouTubeTranscriptApi\n",
        "\n",
        "data = YouTubeTranscriptApi.get_transcript('kd_TNFN43fo')\n",
        "data\n"
      ],
      "metadata": {
        "id": "Qpk0TXr_X4yL"
      },
      "execution_count": null,
      "outputs": []
    },
    {
      "cell_type": "code",
      "source": [
        "df = pd.DataFrame(data, columns=['text', 'start', 'duration'])\n",
        "df.head()"
      ],
      "metadata": {
        "id": "OsCOV7mSWIxz"
      },
      "execution_count": null,
      "outputs": []
    },
    {
      "cell_type": "code",
      "source": [
        "text_transcript = ' '.join(df.text)\n",
        "text_transcript"
      ],
      "metadata": {
        "id": "4MvekzeLuLhm"
      },
      "execution_count": null,
      "outputs": []
    },
    {
      "cell_type": "code",
      "source": [
        "#для общего датафрейма\n",
        "list_of_transcript1 = []\n",
        "list_of_transcript1.append(text_transcript)\n"
      ],
      "metadata": {
        "id": "kDf1aO3daVdb"
      },
      "execution_count": null,
      "outputs": []
    },
    {
      "cell_type": "code",
      "source": [
        "import torch\n",
        "\n",
        "model, example_texts, languages, punct, apply_te = torch.hub.load(repo_or_dir='snakers4/silero-models',\n",
        "                                                                  model='silero_te')\n",
        "\n",
        "input_text = text_transcript\n",
        "text_punct = apply_te(input_text, lan='en')\n",
        "list_text_punct = []\n",
        "list_text_punct.append(text_punct)"
      ],
      "metadata": {
        "id": "SucRTv_RaiQe"
      },
      "execution_count": null,
      "outputs": []
    },
    {
      "cell_type": "code",
      "source": [
        "type(list_text_punct)"
      ],
      "metadata": {
        "id": "o79kOw2p91L4"
      },
      "execution_count": null,
      "outputs": []
    },
    {
      "cell_type": "code",
      "source": [
        "df = pd.DataFrame (list_text_punct, columns = ['raw text'])\n",
        "df"
      ],
      "metadata": {
        "id": "nKtRijfJ-sTJ"
      },
      "execution_count": null,
      "outputs": []
    },
    {
      "cell_type": "code",
      "source": [
        "!pip install bert-extractive-summarizer"
      ],
      "metadata": {
        "id": "hAuaxxrs09v-"
      },
      "execution_count": null,
      "outputs": []
    },
    {
      "cell_type": "code",
      "source": [
        "from summarizer import Summarizer\n",
        "model = Summarizer()\n",
        "result1 = model(text_punct, num_sentences=3)  # Will return 3 sentences "
      ],
      "metadata": {
        "id": "2dgIf0Ay1CEN"
      },
      "execution_count": null,
      "outputs": []
    },
    {
      "cell_type": "markdown",
      "source": [
        "РЕЗУЛЬТАТ 1"
      ],
      "metadata": {
        "id": "YIVwMHD4mpp3"
      }
    },
    {
      "cell_type": "code",
      "source": [
        "result1"
      ],
      "metadata": {
        "colab": {
          "base_uri": "https://localhost:8080/",
          "height": 107
        },
        "id": "I7jlpyRE1nL0",
        "outputId": "37cd6b88-33ec-4d9f-aab2-f0f4d094ca6d"
      },
      "execution_count": null,
      "outputs": [
        {
          "output_type": "execute_result",
          "data": {
            "text/plain": [
              "\"So I don't want to cry in this video because I cried the other day If I can't guarantee that I won't cry generally thank you very much for coming to Cambridge for an interview for the graduate course in Medicine this year before Color Bla Bla Bla Bla Bla Bla. I'm not bothered about that but yeah that's why I didn't tell anyone in person straight away and then about the actual email. I was like I need to be rejected or I need to have something bad happened So I'm kind of God yes I took the risk and I just applied to one Uni I could have applied to lots more and maybe got a place but I just didn't want to have loads of interviews.\""
            ],
            "application/vnd.google.colaboratory.intrinsic+json": {
              "type": "string"
            }
          },
          "metadata": {},
          "execution_count": 17
        }
      ]
    },
    {
      "cell_type": "code",
      "source": [
        "!pip install -U sentence-transformers"
      ],
      "metadata": {
        "id": "ox2D3mV42e9U"
      },
      "execution_count": null,
      "outputs": []
    },
    {
      "cell_type": "code",
      "source": [
        "from summarizer.sbert import SBertSummarizer\n",
        "\n",
        "model = SBertSummarizer('paraphrase-MiniLM-L6-v2')\n",
        "result2 = model(text_punct, num_sentences=3)"
      ],
      "metadata": {
        "id": "tU_OgFbE2hbu"
      },
      "execution_count": null,
      "outputs": []
    },
    {
      "cell_type": "markdown",
      "source": [
        "РЕЗУЛЬТАТ 2"
      ],
      "metadata": {
        "id": "3yDcl5RAmsrR"
      }
    },
    {
      "cell_type": "code",
      "source": [
        "result2"
      ],
      "metadata": {
        "colab": {
          "base_uri": "https://localhost:8080/",
          "height": 143
        },
        "id": "DqUmsCnx225M",
        "outputId": "00e6bb7e-8923-4a2d-d6ae-8ce4db028724"
      },
      "execution_count": null,
      "outputs": [
        {
          "output_type": "execute_result",
          "data": {
            "text/plain": [
              "\"So I don't want to cry in this video because I cried the other day If I can't guarantee that I won't cry generally thank you very much for coming to Cambridge for an interview for the graduate course in Medicine this year before Color Bla Bla Bla Bla Bla Bla. I think they said to us on the day of the interview that about 90 to 100 we're given it to you so it's a very big car and it's very competitive the application process you get scored all the way through it's very quantitative which I. Suppose makes a less objective that's dope they take into account your application so your personal statement which I wrote my new cast my references and I suppose my predicted grades and my grades from Fasten second here and a little stuff like that and then 60% of it so the majority of it is based on my interview performance. I'm very much like disheartened and I think one of the main reasons is the fact that I kind of tried to put a lot into it When I knew I had it in to I was like okay.\""
            ],
            "application/vnd.google.colaboratory.intrinsic+json": {
              "type": "string"
            }
          },
          "metadata": {},
          "execution_count": 24
        }
      ]
    },
    {
      "cell_type": "code",
      "source": [
        "test_text = text_punct \n",
        "if len(test_text) > 1024:\n",
        "  test_text = text_punct[:1024]\n",
        "print(test_text)\n"
      ],
      "metadata": {
        "colab": {
          "base_uri": "https://localhost:8080/"
        },
        "id": "DgedBMXEXzR0",
        "outputId": "87a2a0fc-3342-4fee-c8da-e15897a74f4c"
      },
      "execution_count": null,
      "outputs": [
        {
          "output_type": "stream",
          "name": "stdout",
          "text": [
            "So I don't want to cry in this video because I cried the other day If I can't guarantee that I won't cry generally thank you very much for coming to Cambridge for an interview for the graduate course in Medicine this year before Color Bla Bla Bla Bla Bla Bla. After detailed consideration. I'm very sorry to say that we are not able to make you an offer yeah I applied and I didn't get in that email came in to me and the other day What day he came in on Thursday I feel fine I'm not trying these things online. Why Holi we haven't even got a few minutes into the video and we're crying Oh my gosh right stop. Oh right breathe I had stuff to say in this video. I can't be crying no Oh for those of you that have been following my application. I'm Madison so over the summer. I did work experience and then I was about sure as to whether I was going to apply, but in the end I decided that I was just gonna make quite a last-minute application and just see how it goes. I didn't want to overburden myself or loads into you. S\n"
          ]
        }
      ]
    },
    {
      "cell_type": "code",
      "source": [
        "from transformers import pipeline\n",
        "\n",
        "model = pipeline(\"summarization\")\n",
        "result3 = model(test_text)"
      ],
      "metadata": {
        "id": "BHGgoLMncLdX"
      },
      "execution_count": null,
      "outputs": []
    },
    {
      "cell_type": "markdown",
      "source": [
        "РЕЗУЛЬТАТ 3"
      ],
      "metadata": {
        "id": "3Z97jzpamx1M"
      }
    },
    {
      "cell_type": "code",
      "source": [
        "result3 = result3[0]['summary_text']\n",
        "result3"
      ],
      "metadata": {
        "colab": {
          "base_uri": "https://localhost:8080/",
          "height": 71
        },
        "id": "8ogOYep0Ykq0",
        "outputId": "0c4fd434-c2c4-48bd-8825-ab2ba0656fa5"
      },
      "execution_count": null,
      "outputs": [
        {
          "output_type": "execute_result",
          "data": {
            "text/plain": [
              "\" Madison's application for Cambridge University was rejected after a last-minute application . She says she is not sure if she will cry in the video because she cried the other day . The video ends with a message that we are not able to make you an offer . We are not even got a few minutes into the video and we're crying .\""
            ],
            "application/vnd.google.colaboratory.intrinsic+json": {
              "type": "string"
            }
          },
          "metadata": {},
          "execution_count": 21
        }
      ]
    },
    {
      "cell_type": "markdown",
      "source": [
        "\n",
        "\n",
        "> **ВИДЕО 3**\n",
        "\n",
        "\n",
        "\n",
        "\n"
      ],
      "metadata": {
        "id": "3YmmCHlvOVp8"
      }
    },
    {
      "cell_type": "code",
      "source": [
        "link_2 = ['https://youtu.be/TMmDebW_OBI']  # id = 'kd_TNFN43fo'\n"
      ],
      "metadata": {
        "id": "8_nwrzmbhTUY"
      },
      "execution_count": null,
      "outputs": []
    },
    {
      "cell_type": "code",
      "source": [
        "def get_id (link_id):\n",
        "    urlids = []\n",
        "    for link in link_2:\n",
        "        id = link[-11:]\n",
        "        urlids.append(id)\n",
        "    return urlids"
      ],
      "metadata": {
        "id": "zCqLibY3lFiH"
      },
      "execution_count": null,
      "outputs": []
    },
    {
      "cell_type": "code",
      "source": [
        "url_ids2 = get_id(link_2)\n",
        "url_ids2"
      ],
      "metadata": {
        "colab": {
          "base_uri": "https://localhost:8080/"
        },
        "id": "39mmZtBylMTZ",
        "outputId": "059feca1-6103-4c1f-e7f3-22d5d588726d"
      },
      "execution_count": null,
      "outputs": [
        {
          "output_type": "execute_result",
          "data": {
            "text/plain": [
              "['TMmDebW_OBI']"
            ]
          },
          "metadata": {},
          "execution_count": 27
        }
      ]
    },
    {
      "cell_type": "code",
      "source": [
        "data = YouTubeTranscriptApi.get_transcript('TMmDebW_OBI')\n",
        "data"
      ],
      "metadata": {
        "id": "VZfHXcohmGDe"
      },
      "execution_count": null,
      "outputs": []
    },
    {
      "cell_type": "code",
      "source": [
        "df2 = pd.DataFrame(data, columns=['text', 'start', 'duration'])\n",
        "df.head()"
      ],
      "metadata": {
        "id": "FiHxDhLLmNgt"
      },
      "execution_count": null,
      "outputs": []
    },
    {
      "cell_type": "code",
      "source": [
        "text_transcript2 = ' '.join(df2.text)\n",
        "text_transcript2"
      ],
      "metadata": {
        "id": "d3hX6jMemVbQ"
      },
      "execution_count": null,
      "outputs": []
    },
    {
      "cell_type": "markdown",
      "source": [
        "в тексте грязь в виде лишних слов [Music], влияло на аннотацию, пришлось удалить"
      ],
      "metadata": {
        "id": "OtBG63CIpTIi"
      }
    },
    {
      "cell_type": "code",
      "source": [
        "import re\n",
        "\n",
        "text_transcript2_clear = re.sub(r'\\[Music\\]', '', text_transcript2).strip()"
      ],
      "metadata": {
        "id": "_-Ra9plOoemQ"
      },
      "execution_count": null,
      "outputs": []
    },
    {
      "cell_type": "code",
      "source": [
        "model, example_texts, languages, punct, apply_te = torch.hub.load(repo_or_dir='snakers4/silero-models',\n",
        "                                                                  model='silero_te')\n",
        "\n",
        "input_text = text_transcript2_clear\n",
        "text_punct2 = apply_te(input_text, lan='en')\n",
        "text_punct2"
      ],
      "metadata": {
        "id": "28c0iDtRm7yo"
      },
      "execution_count": null,
      "outputs": []
    },
    {
      "cell_type": "code",
      "source": [
        "list_text_punct2 = []\n",
        "list_text_punct2.append(text_punct2)\n",
        "type(list_text_punct2)"
      ],
      "metadata": {
        "colab": {
          "base_uri": "https://localhost:8080/"
        },
        "id": "9kEE0k_0_K5h",
        "outputId": "4529b2e7-bf2a-4b18-9677-a70cc6c00a7a"
      },
      "execution_count": null,
      "outputs": [
        {
          "output_type": "execute_result",
          "data": {
            "text/plain": [
              "list"
            ]
          },
          "metadata": {},
          "execution_count": 73
        }
      ]
    },
    {
      "cell_type": "code",
      "source": [
        "df = pd.DataFrame (list_text_punct, columns = ['raw text'])\n",
        "df.loc[len(df.index)] = [list_text_punct2]\n",
        "df"
      ],
      "metadata": {
        "id": "m9GFqpW8_Tr0"
      },
      "execution_count": null,
      "outputs": []
    },
    {
      "cell_type": "code",
      "source": [
        "from summarizer import Summarizer\n",
        "model = Summarizer()\n",
        "result1_text2 = model(text_punct2, num_sentences=5)  # Will return 3 sentences "
      ],
      "metadata": {
        "id": "tWuje8evmSup"
      },
      "execution_count": null,
      "outputs": []
    },
    {
      "cell_type": "markdown",
      "source": [
        "Видео 3, результат 1"
      ],
      "metadata": {
        "id": "QDxmGFcVphG8"
      }
    },
    {
      "cell_type": "code",
      "source": [
        "result1_text2"
      ],
      "metadata": {
        "colab": {
          "base_uri": "https://localhost:8080/",
          "height": 107
        },
        "id": "Mb_PrPtynt3p",
        "outputId": "2db440ec-87bd-4a33-b1d0-43ed0fc32379"
      },
      "execution_count": null,
      "outputs": [
        {
          "output_type": "execute_result",
          "data": {
            "text/plain": [
              "\"Karl Marx is often described as one of the greatest thinkers of the 19th century. Born in Prussia, now Germany in May 1818. Communism became a global movement, but the utopian ideal of a fair and equal society failed to materialize communism terrorized and impoverished its subjects and slaughtered them in the tens of millions Today capitalism dominates the world, but many of Marx's criticisms have never been more relevant today. Marx predicted that capitalism would lead to globalization and that a handful of firms would have huge market dominance. Since the 1980s, the number of people in absolute poverty has fallen by about 1 billion.\""
            ],
            "application/vnd.google.colaboratory.intrinsic+json": {
              "type": "string"
            }
          },
          "metadata": {},
          "execution_count": 91
        }
      ]
    },
    {
      "cell_type": "code",
      "source": [
        "!pip install -U sentence-transformers"
      ],
      "metadata": {
        "id": "gBREhyAAp7JK"
      },
      "execution_count": null,
      "outputs": []
    },
    {
      "cell_type": "code",
      "source": [
        "from summarizer.sbert import SBertSummarizer\n",
        "\n",
        "model = SBertSummarizer('paraphrase-MiniLM-L6-v2')\n",
        "result2_text2 = model(text_punct2, num_sentences=5)"
      ],
      "metadata": {
        "id": "5krdVjcopmjB"
      },
      "execution_count": null,
      "outputs": []
    },
    {
      "cell_type": "markdown",
      "source": [
        "Видео 3, результат 2"
      ],
      "metadata": {
        "id": "Hsn_lFc-qdPW"
      }
    },
    {
      "cell_type": "code",
      "source": [
        "result2_text2"
      ],
      "metadata": {
        "id": "fP0zL5sUqGqJ"
      },
      "execution_count": null,
      "outputs": []
    },
    {
      "cell_type": "code",
      "source": [
        "from transformers import pipeline\n",
        "\n",
        "summarizer = pipeline(\"summarization\")\n",
        "result3_text2 = summarizer(text_punct2)"
      ],
      "metadata": {
        "id": "BUV8W-25qhMe"
      },
      "execution_count": null,
      "outputs": []
    },
    {
      "cell_type": "markdown",
      "source": [
        "видео 3, результат 3"
      ],
      "metadata": {
        "id": "I3czvr-VrbDj"
      }
    },
    {
      "cell_type": "code",
      "source": [
        "result3_text2"
      ],
      "metadata": {
        "colab": {
          "base_uri": "https://localhost:8080/"
        },
        "id": "6cRzUuAlrEJ_",
        "outputId": "0af29bfe-d7bb-48e0-f39b-7acd7f69d82a"
      },
      "execution_count": null,
      "outputs": [
        {
          "output_type": "execute_result",
          "data": {
            "text/plain": [
              "[{'summary_text': ' Karl Marx is often described as one of the greatest thinkers of the 19th century . His writings have inspired revolutions and generated centuries of fierce debate . Marx believed that capitalism, which was in its infancy at the time, had serious flaws . Today capitalism dominates the world, but many of his criticisms have never been more relevant today .'}]"
            ]
          },
          "metadata": {},
          "execution_count": 90
        }
      ]
    },
    {
      "cell_type": "markdown",
      "source": [
        "\n",
        "> **видео 2 блог**\n",
        "\n"
      ],
      "metadata": {
        "id": "kIzz2LIf35TK"
      }
    },
    {
      "cell_type": "code",
      "source": [
        "link_3 = ['https://youtu.be/aKLEh3UkR4o']  # id = 'kd_TNFN43fo'\n"
      ],
      "metadata": {
        "id": "rASua7D5q-xS"
      },
      "execution_count": null,
      "outputs": []
    },
    {
      "cell_type": "code",
      "source": [
        "def get_id (link_id):\n",
        "    ids = []\n",
        "    for link in link_3:\n",
        "        id = link[-11:]\n",
        "        ids.append(id)\n",
        "    return ids"
      ],
      "metadata": {
        "id": "iP2h8ibl4VZs"
      },
      "execution_count": null,
      "outputs": []
    },
    {
      "cell_type": "code",
      "source": [
        "url_id_3 = get_id(link_3)\n",
        "url_id_3"
      ],
      "metadata": {
        "colab": {
          "base_uri": "https://localhost:8080/"
        },
        "id": "2W9wAxcC4Yf9",
        "outputId": "424b8b8d-1eff-498a-9be2-0833942595b9"
      },
      "execution_count": null,
      "outputs": [
        {
          "output_type": "execute_result",
          "data": {
            "text/plain": [
              "['aKLEh3UkR4o']"
            ]
          },
          "metadata": {},
          "execution_count": 46
        }
      ]
    },
    {
      "cell_type": "code",
      "source": [
        "from youtube_transcript_api import YouTubeTranscriptApi\n",
        "\n",
        "data = YouTubeTranscriptApi.get_transcript('aKLEh3UkR4o')\n",
        "data\n"
      ],
      "metadata": {
        "id": "0At_Ql5E4n2I"
      },
      "execution_count": null,
      "outputs": []
    },
    {
      "cell_type": "code",
      "source": [
        "df3 = pd.DataFrame(data, columns=['text', 'start', 'duration'])\n",
        "df.head()"
      ],
      "metadata": {
        "id": "-tJz9HL24zBW"
      },
      "execution_count": null,
      "outputs": []
    },
    {
      "cell_type": "code",
      "source": [
        "text_transcript_3 = ' '.join(df3.text)\n",
        "text_transcript_3"
      ],
      "metadata": {
        "colab": {
          "base_uri": "https://localhost:8080/",
          "height": 143
        },
        "id": "j4DG34R546XG",
        "outputId": "9b60b023-f81b-419a-86ab-31f0b0a5b893"
      },
      "execution_count": null,
      "outputs": [
        {
          "output_type": "execute_result",
          "data": {
            "text/plain": [
              "\"hey guys and welcome back to my channel I never thought I would say this but I have done my final year exams five exams in five days wow it was a crazy week and I wanted to take you guys along with me so we started on Monday and this is post exam one is down I'm a fifth of the way through but it's one down oh my gosh breathe calm hello guys I have not spoke to the Cameron so long and I can't even tell you how stressed I have been I've never known Leben this just on FaceTime I've been crying I'm a nervous wreck this morning I was shaking I could not physically stop myself from shaking I don't know why I know what they loved me but these exams have been stressful they are still stressful I am now currently in the middle of like fantasies in my week of exams five days five exam Monday to Friday and I feel a lot better now that I have done one it's so weird you just have to break the ice and do one and then you feel a bit better about them the sooner we start the sooner we finish okay anyway so um let's have an update charts Oh battery's dying already bye oh I have just done my classics I have one of the big like the big ones with two 90 minute questions where I just wrote two essays in this exam I had to choose from three each section how did it go first exam so I don't know it's okay that's but they might always say an exam that's kind of okay my hand kind of hurts now I've got really hot halfway through it just like were ripped off mine on a jumper and pillow saw I was a bit like oh my gosh but yeah it was quite hot in this room but other than that it was it was a semi okay like the first question the first essay I felt okay about I planned it we got it down maybe it's been a bit too long a bit over the time I should've so I moved on to the next section here's the little issue that hiccup we had one of the questions I rolled out straight away I was like no because the last pot depression I was a bit lat well yeah remember to buy shirts and I was like hmm I was like you know in the exam and despair the moment you're best dressed you're like how much one so I decided to do one of that brand it broke the whole introduction okay a whole introduction and then I was just like no no because I didn't think that I had anything extra to put into that essay I like this show it's all focus I'm like an extra reading but yeah I couldn't think of anything because it's quite intricate topic anyway and I was just like no so I read the introduction I kind of waited a bit time helps my issue and then moves on to the other one I didn't really plan other one I just like went straight and was just like you know we're just gonna dive into the deep end and it's had okay but it wasn't so fresh in my brain because they've revised host of our judge my brain is by kind of like throwing some stuff that was extra I thought there was extra so I thought that that would you know like get me a few extra brownie points that was my rationale for radically changing question wasn't like awful I don't thank me I'll say like hopefully not I could have written more like I was more I would like to have said if another but they're like five minutes reading I was like it's to unite de Menezes down now if you today and tour are gonna be the worst days because I have a 9:00 a.m. exam tomorrow so yeah it's kind of like five I'm gonna go to run that's what I'm gonna do because I mean II see a break to get my brain a little bit of a rest and then come back with more forensics arm is the same module so be cancer immunology but it will be a different set up and they'll be like four essays simple to moment essays so they'll be a bit more like specific it sounds like these broad questions I don't know why I'm like doing this so yeah that's my update exam season d1 I couldn't face the camera before this exam because I said I was just so stressed and nervous but what you do want it definitely does something like something clicks and you know okay we're in exam season can't change you just got to do it there's my lovely board still up like in my stress of packing my bag I put in some tissue but then I put in my pencil case and I was like no I can take down to the exams I think I'm cheating I'm I'm not cheating it some last-minute flashcards in D&I me often just like pork and chill Sammy chill before the exam is he and I prefer not to parameter the exam kind of like to give our brains a rest and we've done that for three years and it's kind of worked for us we just character you know calm each other down so we have them it chopped it down when I started my run and so it turned back because it lets you pour down and then a few seconds like got bite widgets dropped all that so I went to the gym and there's some stuff in that bit I'm gonna take them out which is really wet but basically I think if I go find the new topics I'm revising the topics that I have not come up I'm just gonna drop topics now because unlikely that they will ask a similar question that's the P okay that evening was pretty stressful because I knew that I had an exam at 9:00 a.m. the next day but I tried to revise in the most effective way so for me this involves writing things down from memory on scrap pieces of paper using flashcards drilling stuff making sure that I can say it off by heart and in that way I can ensure that it's actually in my brain and I'm not relying on my notes so I just had my folders out and I was going through the topics I felt as if I didn't know about it very well all those I would like to come up in the exam there is currently a thunderstorm and I keep seeing flashes of lightning coming from under my curtains oh my gosh it looks like the scariest thing I've never heard louder Thunder and not gonna lie I'm going to get this undone it's like chucking it down as well I'm currently trying to make overnight so tomorrow because I have 90 M under 24 hours between exams not great like afternoon exam than 90 M and a thunderstorm to go with but yeah [Music] [Music] let's be crates under okay okay second day changed a less good pre-exam breakfast and an apple feeding my brain they just pulled my oats into this bowl and thought it was late to fruit well it's a flaxseed that's me for my morning breakfast exam number two oh my gosh and I've done more than half of my degree more than half because my dissertation I have already done that and it is more than my minor module which I have to work over halfway through just to let you walk to the door and I should just go silly and yes I am wearing the same clothes I will probably be wearing the same place throughout the whole week so yeah I started with my jump up oh this time so I didn't get too hot and that is definitely the way forwards for these next few exams so this one I wrote four essays 45 minutes each which is actually not very long scribbling so hard all right until the end so we picked two questions from each section and I mean they were okay not enough time for right I really wanted just write more and more but you know time constraints I hope it was okay I had my interesting conclusions I didn't plan them because I didn't feel as if I had time and for two of them through the essays I wrote I'd kind of done plans for so I knew the structure I was aiming for which is so great and then the others I was like no we're just gonna dive in and it turned out okay hopefully so just unpack busy bag pencil case and flash baths I didn't look at as always here is the lovely exam paper let's just like not looking at put it somewhere away so my next exam is biochemistry and that's tomorrow afternoon so this is the longest kind of in the war between two exams I don't have any more morning which is so good because that's just a bit of a tight turnaround also the most frustrating thing is that the amount of information that you try and learn okay so there's so much information that I am trying to learn I have my flashcards war there's more stuff here like everything that you try and learn you learn so much and cram it in and the amount that you get to write and you get to go to the examiner that you know the amount that you actually write down on the paper is teeny weeny tiny but yeah I'm gonna phone mum about her nine how it was so I didn't get drenched in the rain today but it was spitting but it was kind of refreshing and then I went to the gym after I'm said my abs and stuff which I'm done in a while so I thought hello abdominal muscles I'm not gonna be making lunch and I'm trying to mix this almond butter because I'm making myself like toasted rye bread I am such a lover of toasted rye bread and when it's a bit burn like random bits of fruit some cucumber you know me I should have everything random in One Bowl if you're a bit confused and you haven't really seen that many of my videos then you might not actually know why study and what I do so I'm going to try and explain I do biology and I take this year a major subject and a minor subject the minor subject in which is what I was revising for this evening is biochemistry and I take one exam in my minor and then find major subject that is in pathology but I do two modules within pathology so one of them is immunology and the other one is cancer and genetic disease it gets even more complicated because the cancer and genetic disease module which I call CJD is split into two parts the first one is cancer II stuff and the second bit is genetics but there is obviously crossover and yeah so I then take for exams and we made for pathology and both have immunology and CTD and I am so tired Wow it has hit me hard I don't know my brain just feels like a massive fog it's not headache but it just feels full like to follow information and I'm just sensing here I'm trying to go through stuff and it's just like not going in I'm just feel as I'm so tired so I think I really just go to bed super early today get up tomorrow my exams in the afternoon and yeah because Wow oh okay three more days there you have to push through and I spoke to dad and he really just need to get sleep unless so dude I need to get sleep I cannot burn out you might have noticed there's this massive thing on the side of my lip it's not food that's not cold or cold slow pulse or I never know what that board anyway it's not one of those it's a cart that essentially won't heal yeah that's beautiful the consoling ah wake up wake up alright so I'm actually going to bed a bit earlier than usual I've been going to bed at about 11:00 every night it's currently like 15 minutes before 11:00 but that's better so I have these kind of like shape things that I use it's again at playing paper but I essentially write down the topic or the exam so this is my biochemistry one and then I write down the things I remember I look at it before I go to bed net hopes cuz it kind of goes into my mind if I look at it just before I go to bed I always have ones like this stuff or like one topic in particular and it's got a bit more information on it but yeah I just like to have these that I can just look up and I find I relate this for yeah [Music] the best happy hump day anyone could ever ask for few topics I'm trying to go over like the majority of topics this morning this is like kind of quickly as I can that's why I kind of try and do before the morning for an exam if I have it in the afternoon the other day I tried to go through like two whole modules in the morning and it just didn't happen but I chemistry there's not that many well there are a few topics but I'm trying to go through quite she doesn't taste quite right yeah I just don't me I'm gonna rest eat in this and then like making myself feel well as much as I hate all throughout exam season and pretty much in general I will drink a smoothie for breakfast and then I usually have oats for lunch especially during exam season and high stress periods I like to have my set meals and my go to so it's a green smoothie and then as you can see at the moment I was mind mapping something so this is just a way to write down everything that I know and focus on the stuff that I maybe don't know so I just like to brainstorm in that way I find wine maps are really useful for essay plans and for trying to organize your notes or organize your thoughts on one topic that is what I was just doing for biochemistry I was trying to go through as much as possible as I said and obviously because my major module has cancer stuff in it there is quite a bit overlap which is really useful so does another exam I've already changed you love just this speaking to mom I was gonna speech you guys before Mike Sam I was a bit rushed and I was already late meeting is I was just like trying to revise like really quickly but didn't even come up in the end yeah the exam it was like hey one question was so broad it was basically like time we get a cancer hello to write an essay now about that I had so much I wanted to say and I got to write like it's much but yeah I try to get as much doubt is the last that ever I don't like scribbling to the end although the questions were like a lot more focused I was how the exam is that you do to that are focused I'm one of those very broad and I'm now done with my chemistry my minor it's done all I have now is two more times left I just think sense freedom oh my gosh and right now I'm already changed to go to the gym it's raining outside again which is super annoying but I'm gonna go to the gym I'm not I come back and guess what I really spoke to you guys this evening but I essentially went to the gym when I got back I've just been revising kind of sense so my exam tomorrow again three hours and the 90-minute assays do we have another 90 minute one for Amy ology and we always have the genetics part module so yeah these questions for the genetics one they tend to be a lot more obscure so a bit worried that they're gonna be really mean but I'm trying not to think negatively I'm just trying to think something like that I dunno stuff I'm telling myself I knew stuff I have mentioned before like the genetic stuff of my CGG module it's not my favorite but like I can't think pessimistically and yeah I'm just got a hope questions are okay so I can write something for 90 minutes which is quite a long time actually the other day both for 90 minutes exams the other day I'm still like I want more time yeah I'm gonna get in the shower now go got more vision I'm going bad I get worried restart day number for an exam number four there we go you know yeah I'm still wearing same jump on it's got to face today new edition I was a bit stressed before this exam bullying that is why I just didn't film anything other than waking up at 6:00 a.m. but yeah this exam okay so I had a slight panic attack when I read the questions I probably had this enough to the genetic stuff as I said and I read the first question and was like what even those I mean that didn't even make sense to me so I moved to the second one and there's a choice of three and I was like what I thought that was not gonna come up because I think similar came at large halls I'm not gonna realize that so I was like no so I moved to the third question I'm thank goodness I could do that one however I was writing the essay I did my plan and they kept doubting myself it's been like is this answering the question I'm sure it was but you don't even the exam sassing and you're just like doubting yourself but I did the essay when obviously I start the exam I also pick the essay that I'm gonna do for me Knology as well I read them really quickly and I was I can't go to through the first one and it was about like bacteria and stuff and vaccines and I was a bit like mm not really feeling that much but if I have to do I'll do it do when I finish the first steps annals I came uh smoother than hat all right the question semiology again second one I was definitely not gonna do because I had no clue how I could write about that for like it in 90 minutes based on what they told us I had no extra reading for as well I read the third one I was like actually my light bulb moment I was like I can do that question and I can actually use stuff that everyone for my designation for it so I was like let's do that so I swapped from doing bacteria to therapeutics and using the immune system which was actually quite good as it's right this toothpaste is very distracting another exam done is the reasonable thing yeah I was really stressed fighting for this one just because the genetic stuff was freaking me out I was so scared and then when I saw that question name I was like gonna cry oh right I'm gonna call mum the usual in my eyes is going about bloodshot I suddenly feel really hay fever II I just went on a run and I was fine until I got back and I was stretching out on the rooftop button and my eyes just started to get really itchy so yeah hey Theo just hold off one more day and then you can come at me full force after every exam whether that be in the morning or in the afternoon I would do some physical form of activity out either go on a run and that was third option if it wasn't raining so that I could get fresh air but otherwise I would then go to the gym it just means I can finish my exam and clear my mind a bit before I then start for the next again I was mind mapping and trying to write stuff down from memory and I did that I did some drills before I then made my dinner so I would every day make all of my food as well in college I didn't go to buttery I've never actually been to buttery in my three years shock horror guys but yeah I did myself loads of vegetative greens which is so important to me and then I was making myself one of my favorite meals which you can probably guess I want you guys to guess what do you think I was making other than the veg it has been a long time since I'm in the kitchen with you guys but anyway I have made myself my dinner it's very typical you probably know it is is this dripping in my food but yeah one of my favorite meals I basically have just been doing like really quick easy meals obviously during exam seasons but still eerily good food to me this is like the best meal of brown rice chickpeas and veg and then over like teeny which seem to land all in this position and that is my dinner memories gloves are dripping also I always add tumeric just over the top and you guys always told me I should mix it and cook it with the food which I am totally aware of I just forget a reasonable time but after he sounds like you focus and think of it more clearly about what I'm doing so just like going into autopilot we've done am eating food which is why I don't do I never thought I would make it this far but Friday the last day [Music] Oh [Music] [Music] [Music] [Applause] [Music] [Applause] [Music] oh my god I have finished honey won't believe it I am done like my degree I have done it everything i i i just she caught me this week and it hasn't even sunk in that i have finished these inc sounds like i so i would cry you really upset I'm just like well this guy's is how you'd finish your exams got some fizzy lemonade Paul you believe it the exams right to talk about the exam because it doesn't even matter now but it wasn't the best exam the questions what particularly good but we did it and we are now done and that was it I kind of drank my lemonade and celebrated by going to a formal which is basically just a semi fancy dinner in college shout out to Lucy it was her birthday and she has to take an exam on that day but yeah five exams guys in five days I never thought I would actually finish and get to the end it felt like I have been running a marathon or like climbing a huge mountain and I never thought I'd actually finish them and survived but we did it it feels really where that still doesn't feel right that I finished and I've technically done everything I can for this degree thank you as always for watching please like it if you enjoyed it and I will speak to you very soon guys bye you [Music]\""
            ],
            "application/vnd.google.colaboratory.intrinsic+json": {
              "type": "string"
            }
          },
          "metadata": {},
          "execution_count": 49
        }
      ]
    },
    {
      "cell_type": "code",
      "source": [
        "model, example_texts, languages, punct, apply_te = torch.hub.load(repo_or_dir='snakers4/silero-models',\n",
        "                                                                  model='silero_te')\n",
        "\n",
        "input_text = text_transcript_3\n",
        "text_punct3 = apply_te(input_text, lan='en')\n",
        "text_punct3"
      ],
      "metadata": {
        "id": "3HdzzFL85CtI"
      },
      "execution_count": null,
      "outputs": []
    },
    {
      "cell_type": "code",
      "source": [
        "list_text_punct3 = []\n",
        "list_text_punct3.append(text_punct3)\n",
        "df.loc[len(df.index)] = [list_text_punct3]\n",
        "df\n"
      ],
      "metadata": {
        "colab": {
          "base_uri": "https://localhost:8080/",
          "height": 143
        },
        "id": "mVfypodqBEfW",
        "outputId": "af6c2177-2623-43e9-f98f-9664f5705cd6"
      },
      "execution_count": null,
      "outputs": [
        {
          "output_type": "execute_result",
          "data": {
            "text/plain": [
              "                                            raw text\n",
              "0  So I don't want to cry in this video because I...\n",
              "1  [Karl Marx is often described as one of the gr...\n",
              "2  [Hey guys and welcome back to my channel. I ne..."
            ],
            "text/html": [
              "\n",
              "  <div id=\"df-ae13cabb-27f4-4412-a3d5-a6a6c0ab4229\">\n",
              "    <div class=\"colab-df-container\">\n",
              "      <div>\n",
              "<style scoped>\n",
              "    .dataframe tbody tr th:only-of-type {\n",
              "        vertical-align: middle;\n",
              "    }\n",
              "\n",
              "    .dataframe tbody tr th {\n",
              "        vertical-align: top;\n",
              "    }\n",
              "\n",
              "    .dataframe thead th {\n",
              "        text-align: right;\n",
              "    }\n",
              "</style>\n",
              "<table border=\"1\" class=\"dataframe\">\n",
              "  <thead>\n",
              "    <tr style=\"text-align: right;\">\n",
              "      <th></th>\n",
              "      <th>raw text</th>\n",
              "    </tr>\n",
              "  </thead>\n",
              "  <tbody>\n",
              "    <tr>\n",
              "      <th>0</th>\n",
              "      <td>So I don't want to cry in this video because I...</td>\n",
              "    </tr>\n",
              "    <tr>\n",
              "      <th>1</th>\n",
              "      <td>[Karl Marx is often described as one of the gr...</td>\n",
              "    </tr>\n",
              "    <tr>\n",
              "      <th>2</th>\n",
              "      <td>[Hey guys and welcome back to my channel. I ne...</td>\n",
              "    </tr>\n",
              "  </tbody>\n",
              "</table>\n",
              "</div>\n",
              "      <button class=\"colab-df-convert\" onclick=\"convertToInteractive('df-ae13cabb-27f4-4412-a3d5-a6a6c0ab4229')\"\n",
              "              title=\"Convert this dataframe to an interactive table.\"\n",
              "              style=\"display:none;\">\n",
              "        \n",
              "  <svg xmlns=\"http://www.w3.org/2000/svg\" height=\"24px\"viewBox=\"0 0 24 24\"\n",
              "       width=\"24px\">\n",
              "    <path d=\"M0 0h24v24H0V0z\" fill=\"none\"/>\n",
              "    <path d=\"M18.56 5.44l.94 2.06.94-2.06 2.06-.94-2.06-.94-.94-2.06-.94 2.06-2.06.94zm-11 1L8.5 8.5l.94-2.06 2.06-.94-2.06-.94L8.5 2.5l-.94 2.06-2.06.94zm10 10l.94 2.06.94-2.06 2.06-.94-2.06-.94-.94-2.06-.94 2.06-2.06.94z\"/><path d=\"M17.41 7.96l-1.37-1.37c-.4-.4-.92-.59-1.43-.59-.52 0-1.04.2-1.43.59L10.3 9.45l-7.72 7.72c-.78.78-.78 2.05 0 2.83L4 21.41c.39.39.9.59 1.41.59.51 0 1.02-.2 1.41-.59l7.78-7.78 2.81-2.81c.8-.78.8-2.07 0-2.86zM5.41 20L4 18.59l7.72-7.72 1.47 1.35L5.41 20z\"/>\n",
              "  </svg>\n",
              "      </button>\n",
              "      \n",
              "  <style>\n",
              "    .colab-df-container {\n",
              "      display:flex;\n",
              "      flex-wrap:wrap;\n",
              "      gap: 12px;\n",
              "    }\n",
              "\n",
              "    .colab-df-convert {\n",
              "      background-color: #E8F0FE;\n",
              "      border: none;\n",
              "      border-radius: 50%;\n",
              "      cursor: pointer;\n",
              "      display: none;\n",
              "      fill: #1967D2;\n",
              "      height: 32px;\n",
              "      padding: 0 0 0 0;\n",
              "      width: 32px;\n",
              "    }\n",
              "\n",
              "    .colab-df-convert:hover {\n",
              "      background-color: #E2EBFA;\n",
              "      box-shadow: 0px 1px 2px rgba(60, 64, 67, 0.3), 0px 1px 3px 1px rgba(60, 64, 67, 0.15);\n",
              "      fill: #174EA6;\n",
              "    }\n",
              "\n",
              "    [theme=dark] .colab-df-convert {\n",
              "      background-color: #3B4455;\n",
              "      fill: #D2E3FC;\n",
              "    }\n",
              "\n",
              "    [theme=dark] .colab-df-convert:hover {\n",
              "      background-color: #434B5C;\n",
              "      box-shadow: 0px 1px 3px 1px rgba(0, 0, 0, 0.15);\n",
              "      filter: drop-shadow(0px 1px 2px rgba(0, 0, 0, 0.3));\n",
              "      fill: #FFFFFF;\n",
              "    }\n",
              "  </style>\n",
              "\n",
              "      <script>\n",
              "        const buttonEl =\n",
              "          document.querySelector('#df-ae13cabb-27f4-4412-a3d5-a6a6c0ab4229 button.colab-df-convert');\n",
              "        buttonEl.style.display =\n",
              "          google.colab.kernel.accessAllowed ? 'block' : 'none';\n",
              "\n",
              "        async function convertToInteractive(key) {\n",
              "          const element = document.querySelector('#df-ae13cabb-27f4-4412-a3d5-a6a6c0ab4229');\n",
              "          const dataTable =\n",
              "            await google.colab.kernel.invokeFunction('convertToInteractive',\n",
              "                                                     [key], {});\n",
              "          if (!dataTable) return;\n",
              "\n",
              "          const docLinkHtml = 'Like what you see? Visit the ' +\n",
              "            '<a target=\"_blank\" href=https://colab.research.google.com/notebooks/data_table.ipynb>data table notebook</a>'\n",
              "            + ' to learn more about interactive tables.';\n",
              "          element.innerHTML = '';\n",
              "          dataTable['output_type'] = 'display_data';\n",
              "          await google.colab.output.renderOutput(dataTable, element);\n",
              "          const docLink = document.createElement('div');\n",
              "          docLink.innerHTML = docLinkHtml;\n",
              "          element.appendChild(docLink);\n",
              "        }\n",
              "      </script>\n",
              "    </div>\n",
              "  </div>\n",
              "  "
            ]
          },
          "metadata": {},
          "execution_count": 78
        }
      ]
    },
    {
      "cell_type": "markdown",
      "source": [
        "**СОХРАНИТЬ КОРПУС**"
      ],
      "metadata": {
        "id": "lTDYi4FSDPLL"
      }
    },
    {
      "cell_type": "code",
      "source": [
        "newxls = pd.ExcelWriter('output.xlsx')\n",
        "df.to_excel(newxls)\n",
        "newxls.save()\n"
      ],
      "metadata": {
        "id": "-E-OYLxuCFoH"
      },
      "execution_count": null,
      "outputs": []
    },
    {
      "cell_type": "code",
      "source": [
        "from summarizer import Summarizer\n",
        "model = Summarizer()\n",
        "#result3 = model(text_punct3, ratio=0.2)  # Specified with ratio\n",
        "result3 = model(text_punct3, num_sentences=5)  # Will return 3 sentences "
      ],
      "metadata": {
        "colab": {
          "base_uri": "https://localhost:8080/"
        },
        "id": "kC_R7nxk5PmS",
        "outputId": "d3c1db96-e493-4956-d3ce-d1267592e346"
      },
      "execution_count": null,
      "outputs": [
        {
          "output_type": "stream",
          "name": "stderr",
          "text": [
            "Some weights of the model checkpoint at bert-large-uncased were not used when initializing BertModel: ['cls.predictions.transform.LayerNorm.weight', 'cls.seq_relationship.bias', 'cls.predictions.bias', 'cls.predictions.transform.dense.bias', 'cls.seq_relationship.weight', 'cls.predictions.decoder.weight', 'cls.predictions.transform.LayerNorm.bias', 'cls.predictions.transform.dense.weight']\n",
            "- This IS expected if you are initializing BertModel from the checkpoint of a model trained on another task or with another architecture (e.g. initializing a BertForSequenceClassification model from a BertForPreTraining model).\n",
            "- This IS NOT expected if you are initializing BertModel from the checkpoint of a model that you expect to be exactly identical (initializing a BertForSequenceClassification model from a BertForSequenceClassification model).\n"
          ]
        }
      ]
    },
    {
      "cell_type": "markdown",
      "source": [
        "Результат 1, текст 3"
      ],
      "metadata": {
        "id": "RDTEHcQc6YBj"
      }
    },
    {
      "cell_type": "code",
      "source": [
        "result3 "
      ],
      "metadata": {
        "colab": {
          "base_uri": "https://localhost:8080/",
          "height": 143
        },
        "id": "LCGn1uTq5Zlm",
        "outputId": "74f5b69d-28dc-462f-f876-bac2d5b399a3"
      },
      "execution_count": null,
      "outputs": [
        {
          "output_type": "execute_result",
          "data": {
            "text/plain": [
              "\"I never thought I would say this but I have done my final year exams five exams in five days wow. I felt as if I didn't know about it very well all those I would like to come up in the exam. So I moved to the second one and there's a choice of three and I was like what I thought that was not gonna come up because I think similar came at large Halls. I was like I can do that question and I can actually use stuff that everyone for my designation for it so I was like let's do that so I swapped from doing bacteria to therapeutics and using the immune system, which was actually quite good as it's right this toothpaste is very distracting another exam done is the reasonable thing yeah. Make all of my food as well In college, I didn't go to buttery I've never actually been to buttery in my three years shock horror guys, but yeah I did myself loads of vegetative greens, which is so important to me And then I was making myself one of my favorite meals which you can probably guess I want you guys to guess what do you think I was making other than the veg.\""
            ],
            "application/vnd.google.colaboratory.intrinsic+json": {
              "type": "string"
            }
          },
          "metadata": {},
          "execution_count": 85
        }
      ]
    }
  ]
}