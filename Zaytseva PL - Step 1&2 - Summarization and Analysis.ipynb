{
 "cells": [
  {
   "cell_type": "markdown",
   "id": "5ff01363",
   "metadata": {},
   "source": [
    "Модель 1 - Bert, результат записываем в файл txt"
   ]
  },
  {
   "cell_type": "code",
   "execution_count": 1,
   "id": "036dcb57",
   "metadata": {},
   "outputs": [],
   "source": [
    "from summarizer import Summarizer"
   ]
  },
  {
   "cell_type": "code",
   "execution_count": 2,
   "id": "d0fd919a",
   "metadata": {},
   "outputs": [
    {
     "data": {
      "text/plain": [
       "0    So I don't want to cry in this video because I...\n",
       "1    Hey guys and welcome back to my channel. I nev...\n",
       "2    Have you ever cried over a boy Noooo. No Don't...\n",
       "3    well former First Lady Michelle Obama thank yo...\n",
       "4    Karl Marx is often described as one of the gre...\n",
       "5    2023 a year that many are facing with trepidat...\n",
       "Name: texts, dtype: object"
      ]
     },
     "execution_count": 2,
     "metadata": {},
     "output_type": "execute_result"
    }
   ],
   "source": [
    "import pandas as pd\n",
    "\n",
    "df = pd.read_excel('Texts_Original.xlsx')\n",
    "texts = df.texts\n",
    "texts"
   ]
  },
  {
   "cell_type": "code",
   "execution_count": 3,
   "id": "245ed3e2",
   "metadata": {},
   "outputs": [],
   "source": [
    "def AnnotationBert (text):\n",
    "    model = Summarizer()\n",
    "    result1 = model(text, num_sentences=3)\n",
    "    return result1"
   ]
  },
  {
   "cell_type": "code",
   "execution_count": 4,
   "id": "9ce84098",
   "metadata": {},
   "outputs": [
    {
     "name": "stderr",
     "output_type": "stream",
     "text": [
      "Some weights of the model checkpoint at bert-large-uncased were not used when initializing BertModel: ['cls.predictions.transform.dense.weight', 'cls.predictions.bias', 'cls.predictions.transform.dense.bias', 'cls.seq_relationship.bias', 'cls.predictions.transform.LayerNorm.bias', 'cls.predictions.decoder.weight', 'cls.seq_relationship.weight', 'cls.predictions.transform.LayerNorm.weight']\n",
      "- This IS expected if you are initializing BertModel from the checkpoint of a model trained on another task or with another architecture (e.g. initializing a BertForSequenceClassification model from a BertForPreTraining model).\n",
      "- This IS NOT expected if you are initializing BertModel from the checkpoint of a model that you expect to be exactly identical (initializing a BertForSequenceClassification model from a BertForSequenceClassification model).\n"
     ]
    },
    {
     "data": {
      "text/plain": [
       "\"So I don't want to cry in this video because I cried the other day if I can't guarantee that I won't cry generally thank you very much for coming to Cambridge for an interview for the graduate course in Medicine this year before Color Bla Bla Bla Bla Bla Bla after detailed consideration. I'm not bothered about that but yeah that's why I didn't tell anyone in person straight away and then about the actual email. I'm very much like disheartened and I think one of the main reasons is the fact that I kind of tried to put a lot into it.\\n\""
      ]
     },
     "execution_count": 4,
     "metadata": {},
     "output_type": "execute_result"
    }
   ],
   "source": [
    "annot1_bert = AnnotationBert(texts[0])\n",
    "result1_1 = annot1_bert + '\\n'\n",
    "result1_1"
   ]
  },
  {
   "cell_type": "code",
   "execution_count": 5,
   "id": "b74a4e15",
   "metadata": {},
   "outputs": [
    {
     "name": "stderr",
     "output_type": "stream",
     "text": [
      "Some weights of the model checkpoint at bert-large-uncased were not used when initializing BertModel: ['cls.predictions.transform.dense.weight', 'cls.predictions.bias', 'cls.predictions.transform.dense.bias', 'cls.seq_relationship.bias', 'cls.predictions.transform.LayerNorm.bias', 'cls.predictions.decoder.weight', 'cls.seq_relationship.weight', 'cls.predictions.transform.LayerNorm.weight']\n",
      "- This IS expected if you are initializing BertModel from the checkpoint of a model trained on another task or with another architecture (e.g. initializing a BertForSequenceClassification model from a BertForPreTraining model).\n",
      "- This IS NOT expected if you are initializing BertModel from the checkpoint of a model that you expect to be exactly identical (initializing a BertForSequenceClassification model from a BertForSequenceClassification model).\n"
     ]
    },
    {
     "data": {
      "text/plain": [
       "\"I never thought I would say this but I have done my final year exams five exams in five days wow. I couldn't face the camera before this exam because I said I was just so stressed and nervous, but what you do want it definitely does something like something clicks and you know okay we're in exam season can't change you just got to do it there's my lovely board still up like in my stress of packing my bag I put in some tissue but then I put in my pencil case and I was like no. I'm one of those very broad and I'm now done with my chemistry my minor it's done all I have.\\n\""
      ]
     },
     "execution_count": 5,
     "metadata": {},
     "output_type": "execute_result"
    }
   ],
   "source": [
    "annot2_bert = AnnotationBert(texts[1])\n",
    "result1_2 = annot2_bert + '\\n'\n",
    "result1_2"
   ]
  },
  {
   "cell_type": "code",
   "execution_count": 6,
   "id": "4e45eb04",
   "metadata": {},
   "outputs": [
    {
     "name": "stderr",
     "output_type": "stream",
     "text": [
      "Some weights of the model checkpoint at bert-large-uncased were not used when initializing BertModel: ['cls.predictions.transform.dense.weight', 'cls.predictions.bias', 'cls.predictions.transform.dense.bias', 'cls.seq_relationship.bias', 'cls.predictions.transform.LayerNorm.bias', 'cls.predictions.decoder.weight', 'cls.seq_relationship.weight', 'cls.predictions.transform.LayerNorm.weight']\n",
      "- This IS expected if you are initializing BertModel from the checkpoint of a model trained on another task or with another architecture (e.g. initializing a BertForSequenceClassification model from a BertForPreTraining model).\n",
      "- This IS NOT expected if you are initializing BertModel from the checkpoint of a model that you expect to be exactly identical (initializing a BertForSequenceClassification model from a BertForSequenceClassification model).\n"
     ]
    },
    {
     "data": {
      "text/plain": [
       "\"How do I find a nice person to go on a date with Um. What do I, what do I say next Your second name Let them know as much about me as possible. It's gross, isn't it When it's actually happening with, If it's just like you're sitting there It's really bad to just, go in Lean in and do that Yeah, that's weird Don't ah-No one should ever do that Is there like no no's that you shouldn't do on the first date Ahhhhm Say they're ugly.\\n\""
      ]
     },
     "execution_count": 6,
     "metadata": {},
     "output_type": "execute_result"
    }
   ],
   "source": [
    "annot3_bert = AnnotationBert(texts[2])\n",
    "result1_3 = annot3_bert + '\\n'\n",
    "result1_3"
   ]
  },
  {
   "cell_type": "code",
   "execution_count": 7,
   "id": "ca689e02",
   "metadata": {},
   "outputs": [
    {
     "name": "stderr",
     "output_type": "stream",
     "text": [
      "Some weights of the model checkpoint at bert-large-uncased were not used when initializing BertModel: ['cls.predictions.transform.dense.weight', 'cls.predictions.bias', 'cls.predictions.transform.dense.bias', 'cls.seq_relationship.bias', 'cls.predictions.transform.LayerNorm.bias', 'cls.predictions.decoder.weight', 'cls.seq_relationship.weight', 'cls.predictions.transform.LayerNorm.weight']\n",
      "- This IS expected if you are initializing BertModel from the checkpoint of a model trained on another task or with another architecture (e.g. initializing a BertForSequenceClassification model from a BertForPreTraining model).\n",
      "- This IS NOT expected if you are initializing BertModel from the checkpoint of a model that you expect to be exactly identical (initializing a BertForSequenceClassification model from a BertForSequenceClassification model).\n"
     ]
    },
    {
     "data": {
      "text/plain": [
       "\"well former First Lady Michelle Obama thank you for being here to talk with us about your new book thanks for having me. Is there one piece of advice that you would give for people who are thinking about how you put in that work for a partnership that's lasted that yeah it's not really one piece of advice. I was a political correspondent and I spent a lot of time traveling this country and talking to young people in particular and what I heard a lot and I'm sure you hear this too from the people who write you letters or come to events that you hold is the fact that they want to believe in a world of going high but.\\n\""
      ]
     },
     "execution_count": 7,
     "metadata": {},
     "output_type": "execute_result"
    }
   ],
   "source": [
    "annot4_bert = AnnotationBert(texts[3])\n",
    "result1_4 = annot4_bert + '\\n'\n",
    "result1_4"
   ]
  },
  {
   "cell_type": "code",
   "execution_count": 8,
   "id": "37f0fb43",
   "metadata": {},
   "outputs": [
    {
     "name": "stderr",
     "output_type": "stream",
     "text": [
      "Some weights of the model checkpoint at bert-large-uncased were not used when initializing BertModel: ['cls.predictions.transform.dense.weight', 'cls.predictions.bias', 'cls.predictions.transform.dense.bias', 'cls.seq_relationship.bias', 'cls.predictions.transform.LayerNorm.bias', 'cls.predictions.decoder.weight', 'cls.seq_relationship.weight', 'cls.predictions.transform.LayerNorm.weight']\n",
      "- This IS expected if you are initializing BertModel from the checkpoint of a model trained on another task or with another architecture (e.g. initializing a BertForSequenceClassification model from a BertForPreTraining model).\n",
      "- This IS NOT expected if you are initializing BertModel from the checkpoint of a model that you expect to be exactly identical (initializing a BertForSequenceClassification model from a BertForSequenceClassification model).\n"
     ]
    },
    {
     "data": {
      "text/plain": [
       "'Karl Marx is often described as one of the greatest thinkers of the 19th century. Marx predicted that capitalism would lead to globalization and that a handful of firms would have huge market dominance. Although there is a lot to learn from Marx his solution was far worse than the disease.\\n'"
      ]
     },
     "execution_count": 8,
     "metadata": {},
     "output_type": "execute_result"
    }
   ],
   "source": [
    "annot5_bert = AnnotationBert(texts[4])\n",
    "result1_5 = annot5_bert + '\\n'\n",
    "result1_5"
   ]
  },
  {
   "cell_type": "code",
   "execution_count": 9,
   "id": "6c953b50",
   "metadata": {},
   "outputs": [
    {
     "name": "stderr",
     "output_type": "stream",
     "text": [
      "Some weights of the model checkpoint at bert-large-uncased were not used when initializing BertModel: ['cls.predictions.transform.dense.weight', 'cls.predictions.bias', 'cls.predictions.transform.dense.bias', 'cls.seq_relationship.bias', 'cls.predictions.transform.LayerNorm.bias', 'cls.predictions.decoder.weight', 'cls.seq_relationship.weight', 'cls.predictions.transform.LayerNorm.weight']\n",
      "- This IS expected if you are initializing BertModel from the checkpoint of a model trained on another task or with another architecture (e.g. initializing a BertForSequenceClassification model from a BertForPreTraining model).\n",
      "- This IS NOT expected if you are initializing BertModel from the checkpoint of a model that you expect to be exactly identical (initializing a BertForSequenceClassification model from a BertForSequenceClassification model).\n"
     ]
    },
    {
     "data": {
      "text/plain": [
       "\"2023 a year that many are facing with trepidation and whilst much of the world will be tightening its belt. A population boom under MAo was followed by the introduction of the one child policy in 1979.. This created a big working age population with fewer children to raise providing the MAnpower for China's extraordinary economic expansion India's demographic bulge started much later than China's in the 2010s its forecast to continue to around 2050. The Formby Encyclopedia of our history of our culture so in taking them away and locking them involved in various museums all over the world.\\n\""
      ]
     },
     "execution_count": 9,
     "metadata": {},
     "output_type": "execute_result"
    }
   ],
   "source": [
    "annot6_bert = AnnotationBert(texts[5])\n",
    "result1_6 = annot6_bert + '\\n'\n",
    "result1_6"
   ]
  },
  {
   "cell_type": "code",
   "execution_count": 10,
   "id": "63dc754d",
   "metadata": {},
   "outputs": [
    {
     "data": {
      "text/plain": [
       "\"I never thought I would say this but I have done my final year exams five exams in five days wow. I couldn't face the camera before this exam because I said I was just so stressed and nervous, but what you do want it definitely does something like something clicks and you know okay we're in exam season can't change you just got to do it there's my lovely board still up like in my stress of packing my bag I put in some tissue but then I put in my pencil case and I was like no. I'm one of those very broad and I'm now done with my chemistry my minor it's done all I have.\\n\""
      ]
     },
     "execution_count": 10,
     "metadata": {},
     "output_type": "execute_result"
    }
   ],
   "source": [
    "result1_2"
   ]
  },
  {
   "cell_type": "code",
   "execution_count": 14,
   "id": "497ef590",
   "metadata": {},
   "outputs": [],
   "source": [
    "with open ('Bert_result1_texts.txt', 'w') as file:\n",
    "    file.write(result1_1)\n",
    "    file.write(result1_2)\n",
    "    file.write(result1_3)\n",
    "    file.write(result1_4)\n",
    "    file.write(result1_5)\n",
    "    file.write(result1_6)"
   ]
  },
  {
   "cell_type": "markdown",
   "id": "ecb9e1a4",
   "metadata": {},
   "source": [
    "Модель 2 - SBert, результат записываем в файл txt"
   ]
  },
  {
   "cell_type": "code",
   "execution_count": 11,
   "id": "7a09f9f6",
   "metadata": {},
   "outputs": [],
   "source": [
    "from summarizer.sbert import SBertSummarizer"
   ]
  },
  {
   "cell_type": "code",
   "execution_count": 12,
   "id": "19f91a25",
   "metadata": {},
   "outputs": [],
   "source": [
    "def AnnotationSBert (text):\n",
    "    model = SBertSummarizer('paraphrase-MiniLM-L6-v2')\n",
    "    result2 = model(text, num_sentences=3)\n",
    "    return result2"
   ]
  },
  {
   "cell_type": "code",
   "execution_count": 13,
   "id": "e1401bae",
   "metadata": {},
   "outputs": [
    {
     "data": {
      "text/plain": [
       "\"So I don't want to cry in this video because I cried the other day if I can't guarantee that I won't cry generally thank you very much for coming to Cambridge for an interview for the graduate course in Medicine this year before Color Bla Bla Bla Bla Bla Bla after detailed consideration. what I could and it just wasn't good enough this year and so I wanted to talk to you guys to not only tell you but I wanted to sit down and tell myself as well as you guys why it's okay. I could have applied to lots more and maybe got a place but I just didn't want to have loads of interviews so I just applied to one so I mean I can't I can only really blame myself and that's fine in terms of what I'm gonna do.\\n\""
      ]
     },
     "execution_count": 13,
     "metadata": {},
     "output_type": "execute_result"
    }
   ],
   "source": [
    "annot1_SBert = AnnotationSBert(texts[0])\n",
    "result2_1 = annot1_SBert + '\\n'\n",
    "result2_1"
   ]
  },
  {
   "cell_type": "code",
   "execution_count": 14,
   "id": "dc7a7f7e",
   "metadata": {},
   "outputs": [],
   "source": [
    "annot2_SBert = AnnotationSBert(texts[1])\n",
    "result2_2 = annot2_SBert + '\\n'"
   ]
  },
  {
   "cell_type": "code",
   "execution_count": 15,
   "id": "c4b892c6",
   "metadata": {},
   "outputs": [],
   "source": [
    "annot3_SBert = AnnotationSBert(texts[2])\n",
    "result2_3 = annot3_SBert + '\\n'"
   ]
  },
  {
   "cell_type": "code",
   "execution_count": 16,
   "id": "f4886bb5",
   "metadata": {},
   "outputs": [],
   "source": [
    "annot4_SBert = AnnotationSBert(texts[3])\n",
    "result2_4 = annot4_SBert + '\\n'"
   ]
  },
  {
   "cell_type": "code",
   "execution_count": 17,
   "id": "3acefc26",
   "metadata": {},
   "outputs": [],
   "source": [
    "annot5_SBert = AnnotationSBert(texts[4])\n",
    "result2_5 = annot5_SBert + '\\n'"
   ]
  },
  {
   "cell_type": "code",
   "execution_count": 18,
   "id": "db7749d4",
   "metadata": {},
   "outputs": [],
   "source": [
    "annot6_SBert = AnnotationSBert(texts[5])\n",
    "result2_6 = annot6_SBert + '\\n'"
   ]
  },
  {
   "cell_type": "code",
   "execution_count": 23,
   "id": "78dd2508",
   "metadata": {},
   "outputs": [],
   "source": [
    "with open ('SBert_result2_texts.txt', 'w') as file:\n",
    "    file.write(result2_1)\n",
    "    file.write(result2_2)\n",
    "    file.write(result2_3)\n",
    "    file.write(result2_4)\n",
    "    file.write(result2_5)\n",
    "    file.write(result2_6)"
   ]
  },
  {
   "cell_type": "markdown",
   "id": "05d9c4d8",
   "metadata": {},
   "source": [
    "Модель 3,  результат записываем в файл txt"
   ]
  },
  {
   "cell_type": "code",
   "execution_count": 19,
   "id": "2a231923",
   "metadata": {},
   "outputs": [],
   "source": [
    "from transformers import pipeline\n"
   ]
  },
  {
   "cell_type": "code",
   "execution_count": 20,
   "id": "0a342836",
   "metadata": {},
   "outputs": [],
   "source": [
    "def Pipeline (text):\n",
    "    if len(text) > 1024:\n",
    "        pipeline_text = text[:1024]\n",
    "    \n",
    "    summarizer = pipeline(\"summarization\")\n",
    "    result3 = summarizer(pipeline_text)\n",
    "    result3 = result3[0]['summary_text']\n",
    "        \n",
    "    return result3"
   ]
  },
  {
   "cell_type": "code",
   "execution_count": 21,
   "id": "7ae7a324",
   "metadata": {},
   "outputs": [
    {
     "name": "stderr",
     "output_type": "stream",
     "text": [
      "No model was supplied, defaulted to sshleifer/distilbart-cnn-12-6 and revision a4f8f3e (https://huggingface.co/sshleifer/distilbart-cnn-12-6).\n",
      "Using a pipeline without specifying a model name and revision in production is not recommended.\n"
     ]
    },
    {
     "data": {
      "text/plain": [
       "' Madison\\'s application for Cambridge University was rejected after a last-minute application . Holi says she is sorry to say that we are not able to make you an offer after detailed consideration. Holi: \"I don\\'t want to cry in this video because I cried the other day if I can\\'t guarantee that I won\\'t cry generally\"\\n'"
      ]
     },
     "execution_count": 21,
     "metadata": {},
     "output_type": "execute_result"
    }
   ],
   "source": [
    "annot1_pipeline = Pipeline(texts[0])\n",
    "result3_1 = annot1_pipeline + '\\n'\n",
    "result3_1"
   ]
  },
  {
   "cell_type": "code",
   "execution_count": 22,
   "id": "a68d8073",
   "metadata": {},
   "outputs": [
    {
     "name": "stderr",
     "output_type": "stream",
     "text": [
      "No model was supplied, defaulted to sshleifer/distilbart-cnn-12-6 and revision a4f8f3e (https://huggingface.co/sshleifer/distilbart-cnn-12-6).\n",
      "Using a pipeline without specifying a model name and revision in production is not recommended.\n"
     ]
    }
   ],
   "source": [
    "annot2_pipeline = Pipeline(texts[1])\n",
    "result3_2 = annot2_pipeline + '\\n'"
   ]
  },
  {
   "cell_type": "code",
   "execution_count": 23,
   "id": "53c046fb",
   "metadata": {},
   "outputs": [
    {
     "name": "stderr",
     "output_type": "stream",
     "text": [
      "No model was supplied, defaulted to sshleifer/distilbart-cnn-12-6 and revision a4f8f3e (https://huggingface.co/sshleifer/distilbart-cnn-12-6).\n",
      "Using a pipeline without specifying a model name and revision in production is not recommended.\n"
     ]
    }
   ],
   "source": [
    "annot3_pipeline = Pipeline(texts[2])\n",
    "result3_3 = annot3_pipeline + '\\n'"
   ]
  },
  {
   "cell_type": "code",
   "execution_count": 24,
   "id": "f9e635aa",
   "metadata": {},
   "outputs": [
    {
     "name": "stderr",
     "output_type": "stream",
     "text": [
      "No model was supplied, defaulted to sshleifer/distilbart-cnn-12-6 and revision a4f8f3e (https://huggingface.co/sshleifer/distilbart-cnn-12-6).\n",
      "Using a pipeline without specifying a model name and revision in production is not recommended.\n"
     ]
    }
   ],
   "source": [
    "annot4_pipeline = Pipeline(texts[3])\n",
    "result3_4 = annot4_pipeline + '\\n'"
   ]
  },
  {
   "cell_type": "code",
   "execution_count": 25,
   "id": "ad25820f",
   "metadata": {},
   "outputs": [
    {
     "name": "stderr",
     "output_type": "stream",
     "text": [
      "No model was supplied, defaulted to sshleifer/distilbart-cnn-12-6 and revision a4f8f3e (https://huggingface.co/sshleifer/distilbart-cnn-12-6).\n",
      "Using a pipeline without specifying a model name and revision in production is not recommended.\n"
     ]
    }
   ],
   "source": [
    "annot5_pipeline = Pipeline(texts[4])\n",
    "result3_5 = annot5_pipeline + '\\n'"
   ]
  },
  {
   "cell_type": "code",
   "execution_count": 45,
   "id": "845e33f2",
   "metadata": {},
   "outputs": [
    {
     "data": {
      "text/plain": [
       "' Karl Marx is often described as one of the greatest thinkers of the 19th century . Born in Prussia, now Germany in May 1818 Marx believed that capitalism had serious flaws . He became involved in the Communist League, a group of intellectuals who wanted to abolish the class system and spread wealth equally .\\n'"
      ]
     },
     "execution_count": 45,
     "metadata": {},
     "output_type": "execute_result"
    }
   ],
   "source": [
    "result3_5"
   ]
  },
  {
   "cell_type": "code",
   "execution_count": 26,
   "id": "6f4224c9",
   "metadata": {},
   "outputs": [
    {
     "name": "stderr",
     "output_type": "stream",
     "text": [
      "No model was supplied, defaulted to sshleifer/distilbart-cnn-12-6 and revision a4f8f3e (https://huggingface.co/sshleifer/distilbart-cnn-12-6).\n",
      "Using a pipeline without specifying a model name and revision in production is not recommended.\n"
     ]
    }
   ],
   "source": [
    "annot6_pipeline = Pipeline(texts[5])\n",
    "result3_6 = annot6_pipeline + '\\n'"
   ]
  },
  {
   "cell_type": "code",
   "execution_count": 44,
   "id": "bd70ae36",
   "metadata": {},
   "outputs": [
    {
     "data": {
      "text/plain": [
       "' 2023 a year that many are facing with trepidation and whilst much of the world will be tightening its belt . There are plenty of ways in which 2023 is set to challenge assumptions . Here are five stories that may just transform the world ahead in 2023 .\\n'"
      ]
     },
     "execution_count": 44,
     "metadata": {},
     "output_type": "execute_result"
    }
   ],
   "source": [
    "result3_6"
   ]
  },
  {
   "cell_type": "code",
   "execution_count": 46,
   "id": "884728d8",
   "metadata": {},
   "outputs": [],
   "source": [
    "with open ('BartCNN_result3_texts.txt', 'w') as file:\n",
    "    file.write(result3_1)\n",
    "    file.write(result3_2)\n",
    "    file.write(result3_3)\n",
    "    file.write(result3_4)\n",
    "    file.write(result3_5)\n",
    "    file.write(result3_6)"
   ]
  },
  {
   "cell_type": "markdown",
   "id": "3bbe900d",
   "metadata": {},
   "source": [
    "Сравниваем результаты моделей на сходство с помощью difflib"
   ]
  },
  {
   "cell_type": "code",
   "execution_count": 27,
   "id": "2c8aea36",
   "metadata": {},
   "outputs": [],
   "source": [
    "import difflib\n",
    "from difflib import SequenceMatcher"
   ]
  },
  {
   "cell_type": "markdown",
   "id": "15edde36",
   "metadata": {},
   "source": [
    "#Short blogs - video 1"
   ]
  },
  {
   "cell_type": "code",
   "execution_count": 35,
   "id": "c3728d89",
   "metadata": {},
   "outputs": [
    {
     "data": {
      "text/plain": [
       "0.48470209339774556"
      ]
     },
     "execution_count": 35,
     "metadata": {},
     "output_type": "execute_result"
    }
   ],
   "source": [
    "video1_m12 = SequenceMatcher(None, result1_1, result2_1).ratio() # short blogs models 1 2 (Bert),(SBert)\n",
    "video1_m12"
   ]
  },
  {
   "cell_type": "code",
   "execution_count": 36,
   "id": "2c322c5c",
   "metadata": {},
   "outputs": [
    {
     "data": {
      "text/plain": [
       "0.26198830409356727"
      ]
     },
     "execution_count": 36,
     "metadata": {},
     "output_type": "execute_result"
    }
   ],
   "source": [
    "video1_m13 = SequenceMatcher(None, result1_1, result3_1).ratio() # short blogs models 1 3 (Bert),(Pipeline)\n",
    "video1_m13"
   ]
  },
  {
   "cell_type": "code",
   "execution_count": 37,
   "id": "3e3cbfac",
   "metadata": {},
   "outputs": [
    {
     "data": {
      "text/plain": [
       "0.21939275220372184"
      ]
     },
     "execution_count": 37,
     "metadata": {},
     "output_type": "execute_result"
    }
   ],
   "source": [
    "video1_m23 = SequenceMatcher(None, result2_1, result3_1).ratio() # short blogs models 2 3 (SBert), (Pipeline)\n",
    "video1_m23"
   ]
  },
  {
   "cell_type": "markdown",
   "id": "e46bd728",
   "metadata": {},
   "source": [
    "Long blogs - video 2"
   ]
  },
  {
   "cell_type": "code",
   "execution_count": 46,
   "id": "53b1e48b",
   "metadata": {},
   "outputs": [
    {
     "data": {
      "text/plain": [
       "0.18947368421052632"
      ]
     },
     "execution_count": 46,
     "metadata": {},
     "output_type": "execute_result"
    }
   ],
   "source": [
    "video2_m12 = SequenceMatcher(None, result1_2, result2_2).ratio() # long blogs models 1 2 (Bert),(SBert)\n",
    "video2_m12"
   ]
  },
  {
   "cell_type": "code",
   "execution_count": 41,
   "id": "82001df7",
   "metadata": {},
   "outputs": [
    {
     "data": {
      "text/plain": [
       "0.05430932703659976"
      ]
     },
     "execution_count": 41,
     "metadata": {},
     "output_type": "execute_result"
    }
   ],
   "source": [
    "video2_m13 = SequenceMatcher(None, result1_2, result3_2).ratio() # long blogs  models 1 3(Bert),(Pipeline)\n",
    "video2_m13"
   ]
  },
  {
   "cell_type": "code",
   "execution_count": 42,
   "id": "c49cd790",
   "metadata": {},
   "outputs": [
    {
     "data": {
      "text/plain": [
       "0.05150214592274678"
      ]
     },
     "execution_count": 42,
     "metadata": {},
     "output_type": "execute_result"
    }
   ],
   "source": [
    "video2_m23 = SequenceMatcher(None, result2_2, result3_2).ratio() # long blogs models 2 3(SBert),(Pipeline)\n",
    "video2_m23"
   ]
  },
  {
   "cell_type": "markdown",
   "id": "5ac1a0ea",
   "metadata": {},
   "source": [
    "Short interview - video 3"
   ]
  },
  {
   "cell_type": "code",
   "execution_count": 48,
   "id": "effc4b8c",
   "metadata": {},
   "outputs": [
    {
     "data": {
      "text/plain": [
       "0.7949599083619702"
      ]
     },
     "execution_count": 48,
     "metadata": {},
     "output_type": "execute_result"
    }
   ],
   "source": [
    "video3_m12 = SequenceMatcher(None, result1_3, result2_3).ratio() # short interview models 1 2(Bert),(SBert)\n",
    "video3_m12"
   ]
  },
  {
   "cell_type": "code",
   "execution_count": 49,
   "id": "5a1288e2",
   "metadata": {},
   "outputs": [
    {
     "data": {
      "text/plain": [
       "0.16302765647743814"
      ]
     },
     "execution_count": 49,
     "metadata": {},
     "output_type": "execute_result"
    }
   ],
   "source": [
    "video3_m13 = SequenceMatcher(None, result1_3, result3_3).ratio() # short interview models 1 3(Bert),(Pipeline)\n",
    "video3_m13"
   ]
  },
  {
   "cell_type": "code",
   "execution_count": 50,
   "id": "feac95af",
   "metadata": {},
   "outputs": [
    {
     "data": {
      "text/plain": [
       "0.15517241379310345"
      ]
     },
     "execution_count": 50,
     "metadata": {},
     "output_type": "execute_result"
    }
   ],
   "source": [
    "video3_m23 = SequenceMatcher(None, result2_3, result3_3).ratio() # short interview models 2 3(SBert),(Pipeline)\n",
    "video3_m23"
   ]
  },
  {
   "cell_type": "markdown",
   "id": "853a209e",
   "metadata": {},
   "source": [
    "Long interview - video 4"
   ]
  },
  {
   "cell_type": "code",
   "execution_count": 51,
   "id": "b107d4c1",
   "metadata": {},
   "outputs": [
    {
     "data": {
      "text/plain": [
       "0.1795027289266222"
      ]
     },
     "execution_count": 51,
     "metadata": {},
     "output_type": "execute_result"
    }
   ],
   "source": [
    "video4_m12 = SequenceMatcher(None, result1_4, result2_4).ratio() # long interview models 1 2(Bert),(SBert)\n",
    "video4_m12"
   ]
  },
  {
   "cell_type": "code",
   "execution_count": 52,
   "id": "e436be50",
   "metadata": {},
   "outputs": [
    {
     "data": {
      "text/plain": [
       "0.013015184381778741"
      ]
     },
     "execution_count": 52,
     "metadata": {},
     "output_type": "execute_result"
    }
   ],
   "source": [
    "video4_m13 = SequenceMatcher(None, result1_4, result3_4).ratio() # long interview models 1 3(Bert),(Pipeline)\n",
    "video4_m13"
   ]
  },
  {
   "cell_type": "code",
   "execution_count": 53,
   "id": "ec066f3d",
   "metadata": {},
   "outputs": [
    {
     "data": {
      "text/plain": [
       "0.009056603773584906"
      ]
     },
     "execution_count": 53,
     "metadata": {},
     "output_type": "execute_result"
    }
   ],
   "source": [
    "video4_m23 = SequenceMatcher(None, result2_4, result3_4).ratio() # long interview models 2 3(SBert),(Pipeline)\n",
    "video4_m23"
   ]
  },
  {
   "cell_type": "markdown",
   "id": "e5eb3773",
   "metadata": {},
   "source": [
    "Short news - video 5"
   ]
  },
  {
   "cell_type": "code",
   "execution_count": 54,
   "id": "c967ad22",
   "metadata": {},
   "outputs": [
    {
     "data": {
      "text/plain": [
       "0.28846153846153844"
      ]
     },
     "execution_count": 54,
     "metadata": {},
     "output_type": "execute_result"
    }
   ],
   "source": [
    "video5_m12 = SequenceMatcher(None, result1_5, result2_5).ratio() # short news models 1 2(Bert),(SBert)\n",
    "video5_m12"
   ]
  },
  {
   "cell_type": "code",
   "execution_count": 55,
   "id": "e289bf27",
   "metadata": {},
   "outputs": [
    {
     "data": {
      "text/plain": [
       "0.30564784053156147"
      ]
     },
     "execution_count": 55,
     "metadata": {},
     "output_type": "execute_result"
    }
   ],
   "source": [
    "video5_m13 = SequenceMatcher(None, result1_5, result3_5).ratio() # short news models 1 3(Bert),(Pipeline)\n",
    "video5_m13"
   ]
  },
  {
   "cell_type": "code",
   "execution_count": 56,
   "id": "cc413a2b",
   "metadata": {},
   "outputs": [
    {
     "data": {
      "text/plain": [
       "0.24598930481283424"
      ]
     },
     "execution_count": 56,
     "metadata": {},
     "output_type": "execute_result"
    }
   ],
   "source": [
    "video5_m23 = SequenceMatcher(None, result2_5, result3_5).ratio() # short news models 2 3(SBert),(Pipeline)\n",
    "video5_m23"
   ]
  },
  {
   "cell_type": "markdown",
   "id": "0ebe3455",
   "metadata": {},
   "source": [
    "Long news - video 6"
   ]
  },
  {
   "cell_type": "code",
   "execution_count": 57,
   "id": "9c5701c4",
   "metadata": {},
   "outputs": [
    {
     "data": {
      "text/plain": [
       "0.20309050772626933"
      ]
     },
     "execution_count": 57,
     "metadata": {},
     "output_type": "execute_result"
    }
   ],
   "source": [
    "video6_m12 = SequenceMatcher(None, result1_6, result2_6).ratio() # long news models 1 2(Bert),(SBert)\n",
    "video6_m12"
   ]
  },
  {
   "cell_type": "code",
   "execution_count": 58,
   "id": "1d764275",
   "metadata": {},
   "outputs": [
    {
     "data": {
      "text/plain": [
       "0.27497062279670975"
      ]
     },
     "execution_count": 58,
     "metadata": {},
     "output_type": "execute_result"
    }
   ],
   "source": [
    "video6_m13 = SequenceMatcher(None, result1_6, result3_6).ratio() # long news models 1 3(Bert),(Pipeline)\n",
    "video6_m13"
   ]
  },
  {
   "cell_type": "code",
   "execution_count": 59,
   "id": "22f5b45c",
   "metadata": {},
   "outputs": [
    {
     "data": {
      "text/plain": [
       "0.2357563850687623"
      ]
     },
     "execution_count": 59,
     "metadata": {},
     "output_type": "execute_result"
    }
   ],
   "source": [
    "video6_m23 = SequenceMatcher(None, result2_6, result3_6).ratio() # long news models 2 3(SBert),(Pipeline)\n",
    "video6_m23"
   ]
  },
  {
   "cell_type": "markdown",
   "id": "0784485e",
   "metadata": {},
   "source": [
    "Для наглядности представим показатели моделей по принципам:\n",
    "- сходство коротких видео разных жанров - спонтанная речь (блоги), полуспонтанная (интервью) и подготовленная (новости)\n",
    "- сходство длинный видео разных жанров - спонтанная речь (блоги), полуспонтанная (интервью) и подготовленная (новости)\n",
    "- сходство коротких и длинных видео одного жанра с готовыми субтитрами (новости)\n",
    "- сходство коротких и длинных видео одного жанра с автогенерированными субтитрами (влоги)"
   ]
  },
  {
   "cell_type": "code",
   "execution_count": 60,
   "id": "0e883218",
   "metadata": {},
   "outputs": [],
   "source": [
    "import matplotlib.pyplot as plt\n",
    "import numpy as np"
   ]
  },
  {
   "cell_type": "code",
   "execution_count": 76,
   "id": "f6539679",
   "metadata": {},
   "outputs": [
    {
     "data": {
      "image/png": "[encoded data removed]",
      "text/plain": [
       "<Figure size 864x576 with 1 Axes>"
      ]
     },
     "metadata": {
      "needs_background": "light"
     },
     "output_type": "display_data"
    }
   ],
   "source": [
    "barWidth = 0.25\n",
    "fig = plt.subplots(figsize =(12, 8))\n",
    "\n",
    "Bert_SBert = [video1_m12, video3_m12, video5_m12]\n",
    "Bert_Pipeline = [video1_m13, video3_m13, video5_m13]\n",
    "SBert_Pipeline = [video1_m23, video3_m23, video5_m23]\n",
    "\n",
    "width =0.3\n",
    "\n",
    "\n",
    "plt.xlabel('Cходство коротких видео разных жанров', fontweight ='bold', fontsize = 15)\n",
    "plt.ylabel('Similarity', fontweight ='bold', fontsize = 15)\n",
    "plt.xticks([r + barWidth for r in range(len(Bert_SBert))],\n",
    "        ['Bert_SBert', 'Bert_Pipeline', 'SBert_Pipeline'])\n",
    "\n",
    "X = np.arange(3)\n",
    "plt.bar(X + 0.00, Bert_SBert, color = 'tab:green', width = 0.25)\n",
    "plt.bar(X + 0.25, Bert_Pipeline, color = 'tab:blue', width = 0.25)\n",
    "plt.bar(X + 0.50, SBert_Pipeline, color = 'tab:orange', width = 0.25)\n",
    "\n",
    "plt.legend(labels = ['Blog', 'Interview', 'News'])\n",
    "plt.show()"
   ]
  },
  {
   "cell_type": "code",
   "execution_count": null,
   "id": "0c42e291",
   "metadata": {},
   "outputs": [],
   "source": [
    "Сходство длинный видео разных жанров - спонтанная речь (блоги), полуспонтанная (интервью) и подготовленная (новости)"
   ]
  },
  {
   "cell_type": "code",
   "execution_count": 77,
   "id": "c4b222f0",
   "metadata": {},
   "outputs": [
    {
     "data": {
      "image/png": "[encoded data removed]",
      "text/plain": [
       "<Figure size 864x576 with 1 Axes>"
      ]
     },
     "metadata": {
      "needs_background": "light"
     },
     "output_type": "display_data"
    }
   ],
   "source": [
    "barWidth = 0.25\n",
    "fig = plt.subplots(figsize =(12, 8))\n",
    "\n",
    "Bert_SBert = [video2_m12, video4_m12, video6_m12]\n",
    "Bert_Pipeline = [video2_m13, video4_m13, video6_m13]\n",
    "SBert_Pipeline = [video2_m23, video4_m23, video6_m23]\n",
    "\n",
    "width =0.3\n",
    "\n",
    "plt.xlabel('Cходство длинных видео разных жанров', fontweight ='bold', fontsize = 15)\n",
    "plt.ylabel('Similarity', fontweight ='bold', fontsize = 15)\n",
    "plt.xticks([r + barWidth for r in range(len(Bert_SBert))],\n",
    "        ['Bert_SBert', 'Bert_Pipeline', 'SBert_Pipeline'])\n",
    "\n",
    "X = np.arange(3)\n",
    "plt.bar(X + 0.00, Bert_SBert, color = 'tab:green', width = 0.25)\n",
    "plt.bar(X + 0.25, Bert_Pipeline, color = 'tab:blue', width = 0.25)\n",
    "plt.bar(X + 0.50, SBert_Pipeline, color = 'tab:orange', width = 0.25)\n",
    "\n",
    "plt.legend(labels = ['Blog', 'Interview', 'News'])\n",
    "plt.show()"
   ]
  },
  {
   "cell_type": "markdown",
   "id": "ae530b3b",
   "metadata": {},
   "source": [
    "Сходство коротких и длинных видео одного жанра с готовыми субтитрами (новости)"
   ]
  },
  {
   "cell_type": "code",
   "execution_count": 83,
   "id": "84b5ec4e",
   "metadata": {},
   "outputs": [
    {
     "data": {
      "image/png": "[encoded data removed]",
      "text/plain": [
       "<Figure size 864x576 with 1 Axes>"
      ]
     },
     "metadata": {
      "needs_background": "light"
     },
     "output_type": "display_data"
    }
   ],
   "source": [
    "barWidth = 0.25\n",
    "fig = plt.subplots(figsize =(12, 8))\n",
    "\n",
    "short = [video5_m12, video5_m13, video5_m23]\n",
    "long = [video6_m12, video6_m13, video6_m23]\n",
    "\n",
    "width =0.3\n",
    "\n",
    "plt.xlabel('Сходство коротких и длинных видео одного жанра с готовыми субтитрами (новости)', fontweight ='bold', fontsize = 15)\n",
    "plt.ylabel('Similarity', fontweight ='bold', fontsize = 15)\n",
    "plt.xticks([r + barWidth for r in range(len(short))],\n",
    "        ['Bert_SBert', 'Bert_Pipeline', 'SBert_Pipeline'])\n",
    "\n",
    "X = np.arange(3)\n",
    "plt.bar(X + 0.00, short, color = 'tab:orange', width = 0.25)\n",
    "plt.bar(X + 0.25, long, color = 'tab:blue', width = 0.25)\n",
    "\n",
    "\n",
    "plt.legend(labels = ['short', 'long'])\n",
    "plt.show()"
   ]
  },
  {
   "cell_type": "code",
   "execution_count": null,
   "id": "fefab2f9",
   "metadata": {},
   "outputs": [],
   "source": [
    "Сходство коротких и длинных видео одного жанра с автогенерированными субтитрами (влоги)"
   ]
  },
  {
   "cell_type": "code",
   "execution_count": 84,
   "id": "560b5ba3",
   "metadata": {},
   "outputs": [
    {
     "data": {
      "image/png": "[encoded data removed]",
      "text/plain": [
       "<Figure size 864x576 with 1 Axes>"
      ]
     },
     "metadata": {
      "needs_background": "light"
     },
     "output_type": "display_data"
    }
   ],
   "source": [
    "barWidth = 0.25\n",
    "fig = plt.subplots(figsize =(12, 8))\n",
    "\n",
    "short = [video1_m12, video1_m13, video1_m23]\n",
    "long = [video2_m12, video2_m13, video2_m23]\n",
    "\n",
    "width =0.3\n",
    "\n",
    "plt.xlabel('Сходство коротких и длинных видео одного жанра с автогенерированными субтитрами (влоги)', fontweight ='bold', fontsize = 15)\n",
    "plt.ylabel('Similarity', fontweight ='bold', fontsize = 15)\n",
    "plt.xticks([r + barWidth for r in range(len(short))],\n",
    "        ['Bert_SBert', 'Bert_Pipeline', 'SBert_Pipeline'])\n",
    "\n",
    "X = np.arange(3)\n",
    "plt.bar(X + 0.00, short, color = 'tab:orange', width = 0.25)\n",
    "plt.bar(X + 0.25, long, color = 'tab:blue', width = 0.25)\n",
    "\n",
    "\n",
    "plt.legend(labels = ['short', 'long'])\n",
    "plt.show()"
   ]
  },
  {
   "cell_type": "code",
   "execution_count": null,
   "id": "450de448",
   "metadata": {},
   "outputs": [],
   "source": []
  }
 ],
 "metadata": {
  "kernelspec": {
   "display_name": "Python 3 (ipykernel)",
   "language": "python",
   "name": "python3"
  },
  "language_info": {
   "codemirror_mode": {
    "name": "ipython",
    "version": 3
   },
   "file_extension": ".py",
   "mimetype": "text/x-python",
   "name": "python",
   "nbconvert_exporter": "python",
   "pygments_lexer": "ipython3",
   "version": "3.9.12"
  }
 },
 "nbformat": 4,
 "nbformat_minor": 5
}
